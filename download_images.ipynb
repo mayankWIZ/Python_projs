{
  "nbformat": 4,
  "nbformat_minor": 0,
  "metadata": {
    "colab": {
      "provenance": [],
      "authorship_tag": "ABX9TyOM8ZZbuH8Nh8vsLlcXz5BQ",
      "include_colab_link": true
    },
    "kernelspec": {
      "name": "python3",
      "display_name": "Python 3"
    },
    "language_info": {
      "name": "python"
    }
  },
  "cells": [
    {
      "cell_type": "markdown",
      "metadata": {
        "id": "view-in-github",
        "colab_type": "text"
      },
      "source": [
        "<a href=\"https://colab.research.google.com/github/MayankR143/Python_projs/blob/master/download_images.ipynb\" target=\"_parent\"><img src=\"https://colab.research.google.com/assets/colab-badge.svg\" alt=\"Open In Colab\"/></a>"
      ]
    },
    {
      "cell_type": "markdown",
      "source": [
        "\n",
        "\n",
        "1.   Before runnign script give excel a public read access\n",
        "2.   Do not close this tab\n",
        "3.   At the end folder will be moved to your drive so allow permission to acces that and drive will be detached by itslef\n",
        "\n"
      ],
      "metadata": {
        "id": "WqNcr1QHetLD"
      }
    },
    {
      "cell_type": "code",
      "source": [
        "product_id_column = \"Product Code\"\n",
        "image_columns = [\n",
        "    \"Image Url\",\n",
        "    \"Image URL 2\",\n",
        "    \"Image URL 3\",\n",
        "    \"Image URL 4\",\n",
        "    \"Image URL 5\"\n",
        "]"
      ],
      "metadata": {
        "id": "tHk3rLh4O4uf"
      },
      "execution_count": null,
      "outputs": []
    },
    {
      "cell_type": "code",
      "execution_count": null,
      "metadata": {
        "id": "DS450SPxLm2d"
      },
      "outputs": [],
      "source": [
        "import pandas as pd\n",
        "from urllib.request import urlretrieve\n",
        "from os.path import exists\n",
        "import os\n",
        "import shutil\n",
        "import requests\n",
        "import validators"
      ]
    },
    {
      "cell_type": "code",
      "source": [
        "# code to move data in drive\n",
        "from google.colab import drive\n",
        "from datetime import datetime\n",
        "def move_folder_to_drive(folder_name):\n",
        "  try:\n",
        "    drive.mount('/content/drive')\n",
        "    current_date_path = \"/content/drive/MyDrive/{}/{}\".format(folder_name,datetime.now().strftime(\"%Y-%m-%d-%H-%M-%S\"))\n",
        "    shutil.copytree(f\"/content/{folder_name}/\", current_date_path,)\n",
        "  except Exception as e:\n",
        "    raise e\n",
        "  finally:\n",
        "    drive.flush_and_unmount()"
      ],
      "metadata": {
        "id": "4VfnqdaTeUXP"
      },
      "execution_count": 71,
      "outputs": []
    },
    {
      "cell_type": "code",
      "source": [
        "def download_image(image_url, dest):\n",
        "  valid_url = False\n",
        "  try:\n",
        "    validators.url(image_url)\n",
        "    valid_url = True\n",
        "  except:\n",
        "    pass\n",
        "  if valid_url:\n",
        "    headers ={'User-Agent': 'Mozilla/5.0 (Macintosh; Intel Mac OS X 10_11_5) AppleWebKit/537.36 (KHTML, like Gecko) Cafari/537.36'}\n",
        "    pic = requests.get(image_url, headers=headers)\n",
        "    with open(dest, 'wb') as photo:\n",
        "      photo.write(pic.content)\n",
        "    return True\n",
        "  else:\n",
        "    False"
      ],
      "metadata": {
        "id": "uDL5AgR7Sn8T"
      },
      "execution_count": 72,
      "outputs": []
    },
    {
      "cell_type": "code",
      "source": [
        "sheet_id = \"1OiwqtMw0eFhQbi_3WUuXSNXIdeLAcZQKTj_0y65eR_8\"\n",
        "sheet_name = \"Sheet1\"\n",
        "url = f\"https://docs.google.com/spreadsheets/d/{sheet_id}/gviz/tq?tqx=out:csv&sheet={sheet_name}\"\n",
        "\n",
        "data = pd.read_csv(url)\n",
        "data.columns\n",
        "data.fillna(\"\",axis=1)\n",
        "data = data.T.to_dict()"
      ],
      "metadata": {
        "id": "5npjUGghL7EE"
      },
      "execution_count": 73,
      "outputs": []
    },
    {
      "cell_type": "code",
      "source": [
        "if not exists(\"/content/product_images\"):\n",
        "  os.mkdir(\"/content/product_images\")"
      ],
      "metadata": {
        "id": "LLjKb0J0PRHF"
      },
      "execution_count": 74,
      "outputs": []
    },
    {
      "cell_type": "code",
      "source": [
        "for product in list(data.values()):\n",
        "  product_id = product[product_id_column]\n",
        "  for image_idx in range(len(image_columns)):\n",
        "    image_url = product.get(image_columns[image_idx],\"\")\n",
        "    if image_url:\n",
        "      file_path = f\"/content/product_images/{product_id}_{image_idx}.jpg\"\n",
        "      download_image(image_url, file_path)\n",
        "move_folder_to_drive(\"product_images\")"
      ],
      "metadata": {
        "id": "VuaPcPWpSQFw"
      },
      "execution_count": null,
      "outputs": []
    },
    {
      "cell_type": "code",
      "source": [
        "#shutil.rmtree('/content/product_images') # to delete product_images folder"
      ],
      "metadata": {
        "id": "jUn72pWfVb_j"
      },
      "execution_count": null,
      "outputs": []
    }
  ]
}